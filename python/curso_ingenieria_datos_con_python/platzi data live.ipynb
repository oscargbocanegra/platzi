{
 "cells": [
  {
   "cell_type": "markdown",
   "id": "0de2b6e1",
   "metadata": {},
   "source": [
    "# Solicitudes a la Web."
   ]
  },
  {
   "cell_type": "code",
   "execution_count": 1,
   "id": "66e51cb1",
   "metadata": {},
   "outputs": [],
   "source": [
    "import requests"
   ]
  },
  {
   "cell_type": "code",
   "execution_count": 5,
   "id": "4c1a3f55",
   "metadata": {},
   "outputs": [],
   "source": [
    "response = requests.get('https://www.eluniversal.com.mx/')"
   ]
  },
  {
   "cell_type": "code",
   "execution_count": null,
   "id": "2341d0ac",
   "metadata": {},
   "outputs": [],
   "source": [
    "response??"
   ]
  },
  {
   "cell_type": "code",
   "execution_count": 7,
   "id": "0be9ab5e",
   "metadata": {},
   "outputs": [
    {
     "name": "stdout",
     "output_type": "stream",
     "text": [
      "['__attrs__', '__bool__', '__class__', '__delattr__', '__dict__', '__dir__', '__doc__', '__enter__', '__eq__', '__exit__', '__format__', '__ge__', '__getattribute__', '__getstate__', '__gt__', '__hash__', '__init__', '__init_subclass__', '__iter__', '__le__', '__lt__', '__module__', '__ne__', '__new__', '__nonzero__', '__reduce__', '__reduce_ex__', '__repr__', '__setattr__', '__setstate__', '__sizeof__', '__str__', '__subclasshook__', '__weakref__', '_content', '_content_consumed', '_next', 'apparent_encoding', 'close', 'connection', 'content', 'cookies', 'elapsed', 'encoding', 'headers', 'history', 'is_permanent_redirect', 'is_redirect', 'iter_content', 'iter_lines', 'json', 'links', 'next', 'ok', 'raise_for_status', 'raw', 'reason', 'request', 'status_code', 'text', 'url']\n"
     ]
    }
   ],
   "source": [
    "print(dir(response))"
   ]
  },
  {
   "cell_type": "code",
   "execution_count": 8,
   "id": "a3803e1d",
   "metadata": {},
   "outputs": [
    {
     "name": "stdout",
     "output_type": "stream",
     "text": [
      "{'Date': 'Tue, 19 Apr 2022 00:37:56 GMT', 'Content-Type': 'text/html; charset=UTF-8', 'Transfer-Encoding': 'chunked', 'Connection': 'keep-alive', 'X-Frame-Options': 'SAMEORIGIN', 'Referrer-Policy': 'same-origin', 'Cache-Control': 'private, max-age=0, no-store, no-cache, must-revalidate, post-check=0, pre-check=0', 'Expires': 'Thu, 01 Jan 1970 00:00:01 GMT', 'Expect-CT': 'max-age=604800, report-uri=\"https://report-uri.cloudflare.com/cdn-cgi/beacon/expect-ct\"', 'Set-Cookie': '__cf_bm=4RyjCACaT6TqAolVlajiIIUWkt.jT7xfHKtVxn5qXVg-1650328676-0-AQu4FGe7hdYOwLvau+dTNixVBXXUPzJjsun9mmRL01gzTyFJTT2clYoXjvOgpDmLM8+9YFJsk8V1b/0PwdVnXTA=; path=/; expires=Tue, 19-Apr-22 01:07:56 GMT; domain=.eluniversal.com.mx; HttpOnly; Secure; SameSite=None', 'Vary': 'Accept-Encoding', 'Server': 'cloudflare', 'CF-RAY': '6fe193154bcf2215-MIA', 'Content-Encoding': 'gzip'}\n"
     ]
    }
   ],
   "source": [
    "print(response.headers)"
   ]
  },
  {
   "cell_type": "code",
   "execution_count": 9,
   "id": "b7c7082d",
   "metadata": {},
   "outputs": [
    {
     "name": "stdout",
     "output_type": "stream",
     "text": [
      "<!DOCTYPE html>\n",
      "<html lang=\"en-US\">\n",
      "<head>\n",
      "<title>Access denied</title>\n",
      "<meta http-equiv=\"content-type\" content=\"text/html; charset=UTF-8\" />\n",
      "<meta http-equiv=\"X-UA-Compatible\" content=\"IE=Edge\" />\n",
      "<meta name=\"robots\" content=\"noindex, nofollow\" />\n",
      "<meta name=\"viewport\" content=\"width=device-width,initial-scale=1\" />\n",
      "<link rel=\"stylesheet\" href=\"/cdn-cgi/styles/errors.new.min.css\" type=\"text/css\" media=\"screen\" />\n",
      "<script type=\"text/javascript\">\n",
      "(function(){if(document.addEventListener&&window.XMLHttpRequest&&JSON&&JSON.stringify){var e=function(a){var c=document.getElementById(\"error-feedback-survey\"),d=document.getElementById(\"error-feedback-success\"),b=new XMLHttpRequest;a={event:\"feedback clicked\",properties:{errorCode:1020,helpful:a,version:3}};b.open(\"POST\",\"https://sparrow.cloudflare.com/api/v1/event\");b.setRequestHeader(\"Content-Type\",\"application/json\");b.setRequestHeader(\"Sparrow-Source-Key\",\"c771f0e4b54944bebf4261d44bd79a1e\");\n",
      "b.send(JSON.stringify(a));c.classList.add(\"feedback-hidden\");d.classList.remove(\"feedback-hidden\")};document.addEventListener(\"DOMContentLoaded\",function(){var a=document.getElementById(\"error-feedback\"),c=document.getElementById(\"feedback-button-yes\"),d=document.getElementById(\"feedback-button-no\");\"classList\"in a&&(a.classList.remove(\"feedback-hidden\"),c.addEventListener(\"click\",function(){e(!0)}),d.addEventListener(\"click\",function(){e(!1)}))})}})();\n",
      "</script>\n",
      "<script type=\"text/javascript\">\n",
      "         (function(){if(document.addEventListener){var c=function(){var b=document.getElementById(\"copy-label\");document.getElementById(\"plain-ray-id\");if(navigator.clipboard)navigator.clipboard.writeText(\"6fe193154bcf2215\");else{var a=document.createElement(\"textarea\");a.value=\"6fe193154bcf2215\";a.style.top=\"0\";a.style.left=\"0\";a.style.position=\"fixed\";document.body.appendChild(a);a.focus();a.select();document.execCommand(\"copy\");document.body.removeChild(a)}b.innerText=\"Copied\"};document.addEventListener(\"DOMContentLoaded\",\n",
      "function(){var b=document.getElementById(\"plain-ray-id\"),a=document.getElementById(\"click-to-copy-btn\");\"classList\"in b&&(b.classList.add(\"hidden\"),a.classList.remove(\"hidden\"),a.addEventListener(\"click\",c))})}})();\n",
      "      </script>\n",
      "<script defer src=\"https://api.radar.cloudflare.com/beacon.js\"></script>\n",
      "<script async src='/cdn-cgi/bm/cv/669835187/api.js'></script></head>\n",
      "<body>\n",
      "<div class=\"main-wrapper\" role=\"main\">\n",
      "<div class=\"header section\">\n",
      "<h1>\n",
      "<span class=\"error-description\">Access denied</span>\n",
      "<span class=\"code-label\">Error code <span>1020</span></span>\n",
      "</h1>\n",
      "<div class=\"large-font\">\n",
      "<p>You do not have access to www.eluniversal.com.mx.</p><p>The site owner may have set restrictions that prevent you from accessing the site. Contact the site owner for access or try loading the page again.</p>\n",
      "</div>\n",
      "</div>\n",
      "</div>\n",
      "<div>\n",
      "<div class=\"clearfix section\">\n",
      "<div class=\"column know-more\">\n",
      "<h2 class=\"large-font\">Additional information</h2>\n",
      "<p>The access policies of a site define which visits are allowed. Your current visit is not allowed according to those policies.</p><p>Only the site owner can change site access policies.</p>\n",
      "</div>\n",
      "<div class=\"column know-more\">\n",
      "<h2 class=\"large-font\">I am the site owner</h2>\n",
      "<p class=\"ray-id-wrapper\">\n",
      "Ray ID:\n",
      "<span class=\"plain-ray-id\" id=\"plain-ray-id\">\n",
      "6fe193154bcf2215\n",
      "</span>\n",
      "<button class=\"click-to-copy-btn hidden\" id=\"click-to-copy-btn\" title=\"Click to copy Ray ID\" type=\"button\">\n",
      "<span class=\"ray-id\">6fe193154bcf2215</span><span class=\"copy-label\" id=\"copy-label\">Copy</span>\n",
      "</button>\n",
      "</p>\n",
      "<ol>\n",
      "<li>\n",
      "Search the\n",
      "<a rel=\"noopener noreferrer\" href=\"https://dash.cloudflare.com/?to=/:account/:zone/firewall\" target=\"_blank\">Firewall Events Log</a>\n",
      "<img class=\"external-link\" title=\"Opens in new tab\" src=\"/cdn-cgi/images/external.png\" alt=\"External link\">\n",
      "for the above Ray ID.\n",
      "</li>\n",
      "<li>Examine and assess the details of the access policy.</li>\n",
      "</ol>\n",
      "<br>\n",
      "<a rel=\"noopener noreferrer\" href=\"https://support.cloudflare.com/hc/articles/360029779472-Troubleshooting-Cloudflare-1XXX-errors#error1020\" target=\"_blank\">Troubleshooting guide</a>\n",
      "<img class=\"external-link\" title=\"Opens in new tab\" src=\"/cdn-cgi/images/external.png\" alt=\"External link\">\n",
      "</div>\n",
      "</div>\n",
      "<div class=\"clearfix footer section\" role=\"contentinfo\">\n",
      "<div class=\"column\">\n",
      "<div class=\"feedback-hidden py-8 text-center\" id=\"error-feedback\">\n",
      "<div id=\"error-feedback-survey\" class=\"footer-line-wrapper\">\n",
      "Was this page helpful?\n",
      "<button class=\"border border-solid bg-white cf-button cursor-pointer ml-4 px-4 py-2 rounded\" id=\"feedback-button-yes\" type=\"button\">Yes</button>\n",
      "<button class=\"border border-solid bg-white cf-button cursor-pointer ml-4 px-4 py-2 rounded\" id=\"feedback-button-no\" type=\"button\">No</button>\n",
      "</div>\n",
      "<div class=\"feedback-success feedback-hidden\" id=\"error-feedback-success\">\n",
      "Thank you for your feedback!\n",
      "</div>\n",
      "</div>\n",
      "</div>\n",
      "<div class=\"column footer-line-wrapper text-center\">\n",
      "Performance &amp; security by <a rel=\"noopener noreferrer\" href=\"https://www.cloudflare.com\" target=\"_blank\">Cloudflare</a>\n",
      "<img class=\"external-link\" title=\"Opens in new tab\" src=\"/cdn-cgi/images/external.png\" alt=\"External link\">\n",
      "</div>\n",
      "</div>\n",
      "</div>\n",
      "<script type=\"text/javascript\">(function(){window['__CF$cv$params']={r:'6fe193154bcf2215',m:'_zoyQCps6kfd3Mr6YHtQn2Fe_Pbnf6h6_J2z6eVyBDw-1650328676-0-AdiNtbq5FatZmmMObIL4h3DhhvTZajRBBYleRy252PXMxh3svLWSZmmcOZzOkwbmViB5Xk1jWkPWF9S2QexdxAMnUNne2l107zdwjfc6esbPTeDpNPgJ8bTYz8jnBQU7yw==',s:[0x7228390c69,0x8e24c47363],}})();</script><script defer src=\"https://static.cloudflareinsights.com/beacon.min.js/v652eace1692a40cfa3763df669d7439c1639079717194\" integrity=\"sha512-Gi7xpJR8tSkrpF7aordPZQlW2DLtzUlZcumS8dMQjwDHEnw9I7ZLyiOj/6tZStRBGtGgN6ceN6cMH8z7etPGlw==\" data-cf-beacon='{\"rayId\":\"6fe193154bcf2215\",\"token\":\"32e44599df0d455392e28a002c5d8989\",\"version\":\"2021.12.0\",\"si\":100}' crossorigin=\"anonymous\"></script>\n",
      "</body>\n",
      "</html>\n",
      "\n"
     ]
    }
   ],
   "source": [
    "print(response.text)"
   ]
  },
  {
   "cell_type": "markdown",
   "id": "7ee724cb",
   "metadata": {},
   "source": [
    "# Extracion de informacion de HTML"
   ]
  },
  {
   "cell_type": "code",
   "execution_count": 10,
   "id": "769cde7f",
   "metadata": {},
   "outputs": [],
   "source": [
    "import bs4"
   ]
  },
  {
   "cell_type": "code",
   "execution_count": 11,
   "id": "8f66ff27",
   "metadata": {},
   "outputs": [
    {
     "name": "stdout",
     "output_type": "stream",
     "text": [
      "[]\n"
     ]
    }
   ],
   "source": [
    "soup = bs4.BeautifulSoup(response.text, 'html.parser')\n",
    "courses_links = soup.select('.h7vnx2-2 p')\n",
    "#courses = [course['href'] for course in courses_links]\n",
    "\n",
    "#for course in courses:\n",
    "print(courses_links)"
   ]
  },
  {
   "cell_type": "code",
   "execution_count": null,
   "id": "a1975258",
   "metadata": {},
   "outputs": [],
   "source": [
    "response = requests.get('https://www.mintic.gov.co/portal/inicio/')\n",
    "soup = bs4.BeautifulSoup(response.text,'html.parser')\n",
    "convocatorias = soup.select('.container.py-5 a')\n",
    "for conv in convocatorias:\n",
    "    print(conv)"
   ]
  },
  {
   "cell_type": "code",
   "execution_count": null,
   "id": "d5688a79",
   "metadata": {},
   "outputs": [],
   "source": []
  }
 ],
 "metadata": {
  "kernelspec": {
   "display_name": "Python 3 (ipykernel)",
   "language": "python",
   "name": "python3"
  },
  "language_info": {
   "codemirror_mode": {
    "name": "ipython",
    "version": 3
   },
   "file_extension": ".py",
   "mimetype": "text/x-python",
   "name": "python",
   "nbconvert_exporter": "python",
   "pygments_lexer": "ipython3",
   "version": "3.9.12"
  }
 },
 "nbformat": 4,
 "nbformat_minor": 5
}
